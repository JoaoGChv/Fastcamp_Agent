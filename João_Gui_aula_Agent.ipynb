{
  "nbformat": 4,
  "nbformat_minor": 0,
  "metadata": {
    "colab": {
      "provenance": [],
      "authorship_tag": "ABX9TyPapXT7P3LsXLYMj1ZsVodI",
      "include_colab_link": true
    },
    "kernelspec": {
      "name": "python3",
      "display_name": "Python 3"
    },
    "language_info": {
      "name": "python"
    }
  },
  "cells": [
    {
      "cell_type": "markdown",
      "metadata": {
        "id": "view-in-github",
        "colab_type": "text"
      },
      "source": [
        "<a href=\"https://colab.research.google.com/github/JoaoGChv/Fastcamp_Agent/blob/main/Jo%C3%A3o_Gui_aula_Agent.ipynb\" target=\"_parent\"><img src=\"https://colab.research.google.com/assets/colab-badge.svg\" alt=\"Open In Colab\"/></a>"
      ]
    },
    {
      "cell_type": "code",
      "execution_count": 27,
      "metadata": {
        "id": "ihpG4j7jU1n1"
      },
      "outputs": [],
      "source": [
        "%pip install -q groq"
      ]
    },
    {
      "cell_type": "code",
      "source": [
        "import os\n",
        "os.environ['GROQ_API_KEY'] = \"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\""
      ],
      "metadata": {
        "id": "pYsn7uVrViua"
      },
      "execution_count": 28,
      "outputs": []
    },
    {
      "cell_type": "code",
      "source": [
        "import os\n",
        "from groq import Groq\n",
        "\n",
        "client = Groq(\n",
        "    api_key=os.environ.get(\"GROQ_API_KEY\"),\n",
        ")\n",
        "\n",
        "chat_completion = client.chat.completions.create(\n",
        "    messages=[\n",
        "        {\n",
        "            \"role\": \"user\",\n",
        "            \"content\": \"Explain the importance of fast language models\",\n",
        "        }\n",
        "    ],\n",
        "    model=\"llama3-70b-8192\",\n",
        ")\n",
        "\n",
        "print(chat_completion.choices[0].message.content)"
      ],
      "metadata": {
        "colab": {
          "base_uri": "https://localhost:8080/"
        },
        "id": "4RVNN0SIWfU-",
        "outputId": "60bc5692-8640-4e4d-8b8c-3b01b56f645a"
      },
      "execution_count": 29,
      "outputs": [
        {
          "output_type": "stream",
          "name": "stdout",
          "text": [
            "Fast language models have revolutionized the field of Natural Language Processing (NLP) and have numerous applications in various industries. The importance of fast language models lies in their ability to process and analyze large amounts of text data quickly, efficiently, and accurately. Here are some reasons why fast language models are crucial:\n",
            "\n",
            "1. **Real-time Processing**: Fast language models enable real-time processing of text data, which is essential for applications like chatbots, virtual assistants, and sentiment analysis. These models can analyze user input and respond instantly, providing a seamless user experience.\n",
            "2. **Scalability**: Fast language models can handle large volumes of text data, making them ideal for applications that require processing massive datasets, such as social media monitoring, customer feedback analysis, and content generation.\n",
            "3. **Improved Accuracy**: Faster language models can process more data in less time, leading to improved accuracy and better model performance. This is particularly important in applications like machine translation, sentiment analysis, and question answering.\n",
            "4. **Enhanced User Experience**: Fast language models enable rapid response times, which are critical for applications like search engines, email clients, and messaging platforms. Users expect instantaneous results, and slow responses can lead to frustration and abandonment.\n",
            "5. **Cost-Effective**: Fast language models reduce the computational resources required for processing text data, leading to cost savings and improved efficiency. This is particularly important for industries like healthcare, finance, and e-commerce, where processing large datasets is critical.\n",
            "6. **Real-time Sentiment Analysis**: Fast language models enable real-time sentiment analysis, which is essential for businesses to monitor customer feedback, sentiment, and opinions. This helps companies respond promptly to customer concerns and improve their reputation.\n",
            "7. **Content Generation**: Fast language models can generate high-quality content quickly, making them ideal for applications like content creation, article writing, and social media posting.\n",
            "8. **Research and Development**: Fast language models accelerate research in NLP, enabling scientists to explore new ideas, test hypotheses, and develop more advanced models quickly.\n",
            "9. **Industrial Applications**: Fast language models have numerous industrial applications, such as:\n",
            "\t* Text summarization for news articles, documents, and research papers.\n",
            "\t* Language translation for global communication and business.\n",
            "\t* Speech recognition for voice assistants, voice-to-text systems, and transcription services.\n",
            "\t* Sentiment analysis for customer feedback, sentiment tracking, and reputation management.\n",
            "10. **Competitive Advantage**: Fast language models can provide a competitive advantage to businesses that adopt them early, enabling them to respond quickly to customer needs, analyze large datasets, and make data-driven decisions faster than their competitors.\n",
            "\n",
            "In summary, fast language models are essential for various applications, including real-time processing, scalability, improved accuracy, enhanced user experience, cost-effectiveness, real-time sentiment analysis, content generation, research and development, industrial applications, and competitive advantage. As the volume of text data continues to grow, the importance of fast language models will only continue to increase.\n"
          ]
        }
      ]
    },
    {
      "cell_type": "code",
      "source": [
        "class Agent:\n",
        "  def __init__(self, client, system):\n",
        "    self.client = client\n",
        "    self.system = system\n",
        "    self.messages = []\n",
        "    if self.system is not None:\n",
        "      self.messages.append({\"role\": \"system\", \"content\": self.system})\n",
        "\n",
        "\n",
        "  def __call__(self, message = \"\"):\n",
        "    if message:\n",
        "      self.messages.append({\"role\": \"user\", \"content\": message})\n",
        "      result = self.execute()\n",
        "      self.messages.append({\"role\": \"assistant\", \"content\": result})\n",
        "      return result\n",
        "\n",
        "  def execute(self):\n",
        "    completion = client.chat.completions.create(\n",
        "      messages=self.messages,\n",
        "      model=\"llama3-70b-8192\",\n",
        "      )\n",
        "    return completion.choices[0].message.content"
      ],
      "metadata": {
        "id": "aXpCSb7H1poK"
      },
      "execution_count": 30,
      "outputs": []
    },
    {
      "cell_type": "code",
      "source": [
        "system_prompt = \"\"\"\n",
        "You run in a loop of Thought, Action, PAUSE, Observation.\n",
        "At the end of the loop you output an Answer\n",
        "Use Thought to describe your thoughts about the question you have been asked.\n",
        "Use Action to run one of the actions available to you - then return PAUSE.\n",
        "Observation will be the result of running those actions.\n",
        "\n",
        "Your available actions are:\n",
        "\n",
        "calculate:\n",
        "e.g. calculate: 4 * 7 / 3\n",
        "Runs a calculation and returns the number - uses Python so be sure to use floating point syntax if necessary\n",
        "\n",
        "get_planet_mass:\n",
        "e.g. get_planet_mass: Earth\n",
        "returns weight of the planet in kg\n",
        "\n",
        "Example session:\n",
        "\n",
        "Question: What is the mass of Earth times 2?\n",
        "Thought: I need to find the mass of Earth\n",
        "Action: get_planet_mass: Earth\n",
        "PAUSE\n",
        "\n",
        "You will be called again with this:\n",
        "\n",
        "Observation: 5.972e24\n",
        "\n",
        "Thought: I need to multiply this by 2\n",
        "Action: calculate: 5.972e24 * 2\n",
        "PAUSE\n",
        "\n",
        "You will be called again with this:\n",
        "\n",
        "Observation: 1,1944×10e25\n",
        "\n",
        "If you have the answer, output it as the Answer.\n",
        "\n",
        "Answer: The mass of Earth times 2 is 1,1944×10e25.\n",
        "\n",
        "Now it's your turn:\n",
        "\"\"\".strip()"
      ],
      "metadata": {
        "id": "d9f0eWsO501b"
      },
      "execution_count": 31,
      "outputs": []
    },
    {
      "cell_type": "code",
      "source": [
        "#tools\n",
        "def calculate (operation):\n",
        "  return eval(operation)\n",
        "\n",
        "def get_planet_mass (planet) -> float:\n",
        "  match planet.lower():\n",
        "    case \"earth\":\n",
        "      return 5.972e+24\n",
        "    case \"jupiter\":\n",
        "      return 1.898e27\n",
        "    case \"mars\":\n",
        "      return 6.39e23\n",
        "    case \"mercury\":\n",
        "      return 3.285e23\n",
        "    case \"neptune\":\n",
        "      return 1.024e26\n",
        "    case \"saturn\":\n",
        "      return 5.683e26\n",
        "    case \"uranus\":\n",
        "      return 8.681e25\n",
        "    case \"venus\":\n",
        "      return 4.867e24\n"
      ],
      "metadata": {
        "id": "rtPpkargdi0a"
      },
      "execution_count": 32,
      "outputs": []
    },
    {
      "cell_type": "code",
      "source": [
        "neil_tyson = Agent(client, system_prompt)"
      ],
      "metadata": {
        "id": "bSSo8fo_kVE3"
      },
      "execution_count": 33,
      "outputs": []
    },
    {
      "cell_type": "code",
      "source": [
        "result = neil_tyson(\"What is the mass of Earth times 5?\") # Dando um prompt teste para o agente\n",
        "print(result) # Printando o resultado para vermos se está tudo de acordo"
      ],
      "metadata": {
        "colab": {
          "base_uri": "https://localhost:8080/"
        },
        "id": "HHFVsyvMl_T_",
        "outputId": "46ef3c06-bed9-441a-e912-7981f67af334"
      },
      "execution_count": 34,
      "outputs": [
        {
          "output_type": "stream",
          "name": "stdout",
          "text": [
            "Thought: I need to find the mass of Earth.\n"
          ]
        }
      ]
    },
    {
      "cell_type": "code",
      "source": [
        "neil_tyson.messages"
      ],
      "metadata": {
        "colab": {
          "base_uri": "https://localhost:8080/"
        },
        "id": "kgkB9LOfmHBF",
        "outputId": "6b2d4452-02d1-4aa7-a950-0593ad2791a0"
      },
      "execution_count": 35,
      "outputs": [
        {
          "output_type": "execute_result",
          "data": {
            "text/plain": [
              "[{'role': 'system',\n",
              "  'content': \"You run in a loop of Thought, Action, PAUSE, Observation.\\nAt the end of the loop you output an Answer\\nUse Thought to describe your thoughts about the question you have been asked.\\nUse Action to run one of the actions available to you - then return PAUSE.\\nObservation will be the result of running those actions.\\n\\nYour available actions are:\\n\\ncalculate:\\ne.g. calculate: 4 * 7 / 3\\nRuns a calculation and returns the number - uses Python so be sure to use floating point syntax if necessary\\n\\nget_planet_mass:\\ne.g. get_planet_mass: Earth\\nreturns weight of the planet in kg\\n\\nExample session:\\n\\nQuestion: What is the mass of Earth times 2?\\nThought: I need to find the mass of Earth\\nAction: get_planet_mass: Earth\\nPAUSE\\n\\nYou will be called again with this:\\n\\nObservation: 5.972e24\\n\\nThought: I need to multiply this by 2\\nAction: calculate: 5.972e24 * 2\\nPAUSE\\n\\nYou will be called again with this:\\n\\nObservation: 1,1944×10e25\\n\\nIf you have the answer, output it as the Answer.\\n\\nAnswer: The mass of Earth times 2 is 1,1944×10e25.\\n\\nNow it's your turn:\"},\n",
              " {'role': 'user', 'content': 'What is the mass of Earth times 5?'},\n",
              " {'role': 'assistant',\n",
              "  'content': 'Thought: I need to find the mass of Earth.'}]"
            ]
          },
          "metadata": {},
          "execution_count": 35
        }
      ]
    },
    {
      "cell_type": "code",
      "source": [
        "result = neil_tyson()\n",
        "print(result)"
      ],
      "metadata": {
        "colab": {
          "base_uri": "https://localhost:8080/"
        },
        "id": "ZiE5Q3s5mWHf",
        "outputId": "01ae5e11-8c34-4aeb-8130-be23d2b0eb26"
      },
      "execution_count": 36,
      "outputs": [
        {
          "output_type": "stream",
          "name": "stdout",
          "text": [
            "None\n"
          ]
        }
      ]
    },
    {
      "cell_type": "code",
      "source": [
        "observation = get_planet_mass(\"Earth\")\n",
        "print(observation)"
      ],
      "metadata": {
        "colab": {
          "base_uri": "https://localhost:8080/"
        },
        "id": "986G7YIYcTFc",
        "outputId": "1dc2949a-ff68-4a7c-f65a-aa819d41e793"
      },
      "execution_count": 37,
      "outputs": [
        {
          "output_type": "stream",
          "name": "stdout",
          "text": [
            "5.972e+24\n"
          ]
        }
      ]
    },
    {
      "cell_type": "code",
      "source": [
        "next_prompt = f\"observation: {observation}\"\n",
        "result = neil_tyson(next_prompt)\n",
        "print(result)"
      ],
      "metadata": {
        "colab": {
          "base_uri": "https://localhost:8080/"
        },
        "id": "twZ7Ft5pc2GW",
        "outputId": "baa64fc7-f489-4cde-b8ec-eee9d6ede09d"
      },
      "execution_count": 38,
      "outputs": [
        {
          "output_type": "stream",
          "name": "stdout",
          "text": [
            "Thought: I need to multiply this by 5\n"
          ]
        }
      ]
    },
    {
      "cell_type": "code",
      "source": [
        "neil_tyson.messages"
      ],
      "metadata": {
        "colab": {
          "base_uri": "https://localhost:8080/"
        },
        "id": "uWlYl3yYdEnG",
        "outputId": "fab56ccd-6e07-401f-e891-405d28251a90"
      },
      "execution_count": 39,
      "outputs": [
        {
          "output_type": "execute_result",
          "data": {
            "text/plain": [
              "[{'role': 'system',\n",
              "  'content': \"You run in a loop of Thought, Action, PAUSE, Observation.\\nAt the end of the loop you output an Answer\\nUse Thought to describe your thoughts about the question you have been asked.\\nUse Action to run one of the actions available to you - then return PAUSE.\\nObservation will be the result of running those actions.\\n\\nYour available actions are:\\n\\ncalculate:\\ne.g. calculate: 4 * 7 / 3\\nRuns a calculation and returns the number - uses Python so be sure to use floating point syntax if necessary\\n\\nget_planet_mass:\\ne.g. get_planet_mass: Earth\\nreturns weight of the planet in kg\\n\\nExample session:\\n\\nQuestion: What is the mass of Earth times 2?\\nThought: I need to find the mass of Earth\\nAction: get_planet_mass: Earth\\nPAUSE\\n\\nYou will be called again with this:\\n\\nObservation: 5.972e24\\n\\nThought: I need to multiply this by 2\\nAction: calculate: 5.972e24 * 2\\nPAUSE\\n\\nYou will be called again with this:\\n\\nObservation: 1,1944×10e25\\n\\nIf you have the answer, output it as the Answer.\\n\\nAnswer: The mass of Earth times 2 is 1,1944×10e25.\\n\\nNow it's your turn:\"},\n",
              " {'role': 'user', 'content': 'What is the mass of Earth times 5?'},\n",
              " {'role': 'assistant',\n",
              "  'content': 'Thought: I need to find the mass of Earth.'},\n",
              " {'role': 'user', 'content': 'observation: 5.972e+24'},\n",
              " {'role': 'assistant', 'content': 'Thought: I need to multiply this by 5'}]"
            ]
          },
          "metadata": {},
          "execution_count": 39
        }
      ]
    },
    {
      "cell_type": "code",
      "source": [
        "result = neil_tyson()\n",
        "print(result)"
      ],
      "metadata": {
        "colab": {
          "base_uri": "https://localhost:8080/"
        },
        "id": "zShwRu2CFFrr",
        "outputId": "aef05117-4bab-4915-e54d-63f9cf9072df"
      },
      "execution_count": 40,
      "outputs": [
        {
          "output_type": "stream",
          "name": "stdout",
          "text": [
            "None\n"
          ]
        }
      ]
    },
    {
      "cell_type": "code",
      "source": [
        "observation = calculate(\"3.285e23 * 5\")\n",
        "print(observation)"
      ],
      "metadata": {
        "colab": {
          "base_uri": "https://localhost:8080/"
        },
        "id": "GFxHOZl1GnpG",
        "outputId": "cb93d138-217e-44ac-e313-ba672e191891"
      },
      "execution_count": 41,
      "outputs": [
        {
          "output_type": "stream",
          "name": "stdout",
          "text": [
            "1.6425e+24\n"
          ]
        }
      ]
    },
    {
      "cell_type": "code",
      "source": [
        "next_prompt = f\"observation: {observation}\"\n",
        "result = neil_tyson(next_prompt)\n",
        "print(result)"
      ],
      "metadata": {
        "colab": {
          "base_uri": "https://localhost:8080/"
        },
        "id": "ycg-5pI2G54B",
        "outputId": "8f2af49f-d574-4bc9-f460-5ad3c99db76f"
      },
      "execution_count": 42,
      "outputs": [
        {
          "output_type": "stream",
          "name": "stdout",
          "text": [
            "Thought: I have the answer!\n"
          ]
        }
      ]
    },
    {
      "cell_type": "code",
      "source": [
        "neil_tyson.messages"
      ],
      "metadata": {
        "colab": {
          "base_uri": "https://localhost:8080/"
        },
        "id": "lpAGVII0HGM7",
        "outputId": "8cb8c0a7-fa3a-44b3-9c55-aca0c9f4e3c9"
      },
      "execution_count": 43,
      "outputs": [
        {
          "output_type": "execute_result",
          "data": {
            "text/plain": [
              "[{'role': 'system',\n",
              "  'content': \"You run in a loop of Thought, Action, PAUSE, Observation.\\nAt the end of the loop you output an Answer\\nUse Thought to describe your thoughts about the question you have been asked.\\nUse Action to run one of the actions available to you - then return PAUSE.\\nObservation will be the result of running those actions.\\n\\nYour available actions are:\\n\\ncalculate:\\ne.g. calculate: 4 * 7 / 3\\nRuns a calculation and returns the number - uses Python so be sure to use floating point syntax if necessary\\n\\nget_planet_mass:\\ne.g. get_planet_mass: Earth\\nreturns weight of the planet in kg\\n\\nExample session:\\n\\nQuestion: What is the mass of Earth times 2?\\nThought: I need to find the mass of Earth\\nAction: get_planet_mass: Earth\\nPAUSE\\n\\nYou will be called again with this:\\n\\nObservation: 5.972e24\\n\\nThought: I need to multiply this by 2\\nAction: calculate: 5.972e24 * 2\\nPAUSE\\n\\nYou will be called again with this:\\n\\nObservation: 1,1944×10e25\\n\\nIf you have the answer, output it as the Answer.\\n\\nAnswer: The mass of Earth times 2 is 1,1944×10e25.\\n\\nNow it's your turn:\"},\n",
              " {'role': 'user', 'content': 'What is the mass of Earth times 5?'},\n",
              " {'role': 'assistant',\n",
              "  'content': 'Thought: I need to find the mass of Earth.'},\n",
              " {'role': 'user', 'content': 'observation: 5.972e+24'},\n",
              " {'role': 'assistant', 'content': 'Thought: I need to multiply this by 5'},\n",
              " {'role': 'user', 'content': 'observation: 1.6425e+24'},\n",
              " {'role': 'assistant', 'content': 'Thought: I have the answer!'}]"
            ]
          },
          "metadata": {},
          "execution_count": 43
        }
      ]
    },
    {
      "cell_type": "code",
      "source": [
        "result = neil_tyson()\n",
        "print(result)"
      ],
      "metadata": {
        "id": "YleS6AIQHBvw",
        "colab": {
          "base_uri": "https://localhost:8080/"
        },
        "outputId": "1f2a6d01-841b-4694-c791-3391850390af"
      },
      "execution_count": 44,
      "outputs": [
        {
          "output_type": "stream",
          "name": "stdout",
          "text": [
            "None\n"
          ]
        }
      ]
    },
    {
      "cell_type": "code",
      "source": [
        "import re\n",
        "result = \"\"\"\n",
        "Action: calculate: 5.972e24 * 5\n",
        "PAUSE\"\"\"\n",
        "action = re.findall(r\"Action: ([a-z_]+): (.+)\", result, re. IGNORECASE)"
      ],
      "metadata": {
        "id": "YLGe5uXRTAj1"
      },
      "execution_count": 45,
      "outputs": []
    },
    {
      "cell_type": "code",
      "source": [
        "action"
      ],
      "metadata": {
        "colab": {
          "base_uri": "https://localhost:8080/"
        },
        "id": "D-AotlUkTVt_",
        "outputId": "a50d8aaf-8fb4-4f18-f58f-1b877acedd53"
      },
      "execution_count": 46,
      "outputs": [
        {
          "output_type": "execute_result",
          "data": {
            "text/plain": [
              "[('calculate', '5.972e24 * 5')]"
            ]
          },
          "metadata": {},
          "execution_count": 46
        }
      ]
    },
    {
      "cell_type": "code",
      "source": [
        "import re\n",
        "def agent_loop(max_iterations, system, query):\n",
        "  agent = Agent(client, system_prompt)\n",
        "  tools = ['calculate', 'get_planet_mass']\n",
        "  next_prompt = query\n",
        "  i = 0\n",
        "  while i < max_iterations:\n",
        "    i += 1\n",
        "    result = agent(next_prompt)\n",
        "    print(result)\n",
        "\n",
        "    if \"PAUSE\" in result and \"Action\" in result:\n",
        "      action = re.findall(r\"Action: ([a-z_]+): (.+)\", result, re. IGNORECASE)\n",
        "      chosen_tool = action[0][0]\n",
        "      ard = action[0][1]\n",
        "\n",
        "      if chosen_tool in tools:\n",
        "        result_tool = eval(f\"{chosen_tool}({'ard'})\")\n",
        "        next_prompt = f\"observation: {result_tool}\"\n",
        "\n",
        "      else:\n",
        "        next_prompt = \"observation: Tool not found\"\n",
        "\n",
        "        print(result)\n",
        "        continue\n",
        "\n",
        "      if \"Answer\" in result:\n",
        "        break"
      ],
      "metadata": {
        "id": "0sbjRzEwKbtg"
      },
      "execution_count": 50,
      "outputs": []
    },
    {
      "cell_type": "code",
      "source": [
        "agent_loop(max_iterations=10, system=system_prompt, query=\"What is the mass of the Earth plus the mass of Mercury and all of it times 5?\") # Implementando o loop do agente criado"
      ],
      "metadata": {
        "colab": {
          "base_uri": "https://localhost:8080/"
        },
        "id": "UUSdidvSrdlX",
        "outputId": "8b1aeae1-989a-4514-db43-b5b968f06028"
      },
      "execution_count": 51,
      "outputs": [
        {
          "output_type": "stream",
          "name": "stdout",
          "text": [
            "Thought: I need to find the mass of Earth and Mercury.\n",
            "Action: get_planet_mass: Earth\n",
            "PAUSE\n",
            "Thought: I have the mass of Earth, now I need to find the mass of Mercury.\n",
            "Action: get_planet_mass: Mercury\n",
            "PAUSE\n",
            "Thought: I have the masses of both planets, now I need to add them together.\n",
            "Action: calculate: 5.972e+24 + 3.285e+23\n",
            "PAUSE\n",
            "Thought: I have the sum of the masses, now I need to multiply it by 5.\n",
            "Action: calculate: 6.300500000000001e+24 * 5\n",
            "PAUSE\n",
            "Answer: The mass of the Earth plus the mass of Mercury and all of it times 5 is 3.1502500000000004e+25.\n",
            "Answer: The mass of the Earth plus the mass of Mercury and all of it times 5 is 3.1502500000000004e+25.\n"
          ]
        }
      ]
    }
  ]
}