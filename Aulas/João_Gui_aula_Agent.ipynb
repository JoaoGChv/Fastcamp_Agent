{
  "nbformat": 4,
  "nbformat_minor": 0,
  "metadata": {
    "colab": {
      "provenance": []
    },
    "kernelspec": {
      "name": "python3",
      "display_name": "Python 3"
    },
    "language_info": {
      "name": "python"
    }
  },
  "cells": [
    {
      "cell_type": "code",
      "execution_count": 1,
      "metadata": {
        "id": "ihpG4j7jU1n1",
        "colab": {
          "base_uri": "https://localhost:8080/"
        },
        "outputId": "fe795eae-c85e-43df-bc09-b01657d78e34"
      },
      "outputs": [
        {
          "output_type": "stream",
          "name": "stdout",
          "text": [
            "\u001b[?25l   \u001b[90m━━━━━━━━━━━━━━━━━━━━━━━━━━━━━━━━━━━━━━━━\u001b[0m \u001b[32m0.0/127.5 kB\u001b[0m \u001b[31m?\u001b[0m eta \u001b[36m-:--:--\u001b[0m\r\u001b[2K   \u001b[91m━━━━━━━━━━━━━━━━━━━━━━━━━━━━━━━━━━━━━━\u001b[0m\u001b[91m╸\u001b[0m\u001b[90m━\u001b[0m \u001b[32m122.9/127.5 kB\u001b[0m \u001b[31m4.0 MB/s\u001b[0m eta \u001b[36m0:00:01\u001b[0m\r\u001b[2K   \u001b[90m━━━━━━━━━━━━━━━━━━━━━━━━━━━━━━━━━━━━━━━━\u001b[0m \u001b[32m127.5/127.5 kB\u001b[0m \u001b[31m2.5 MB/s\u001b[0m eta \u001b[36m0:00:00\u001b[0m\n",
            "\u001b[?25h"
          ]
        }
      ],
      "source": [
        "%pip install -q groq"
      ]
    },
    {
      "cell_type": "code",
      "source": [
        "import os\n",
        "os.environ['GROQ_API_KEY'] = \"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\""
      ],
      "metadata": {
        "id": "pYsn7uVrViua"
      },
      "execution_count": 2,
      "outputs": []
    },
    {
      "cell_type": "code",
      "source": [
        "import os\n",
        "from groq import Groq\n",
        "\n",
        "client = Groq(\n",
        "    api_key=os.environ.get(\"GROQ_API_KEY\"),\n",
        ")\n",
        "\n",
        "chat_completion = client.chat.completions.create(\n",
        "    messages=[\n",
        "        {\n",
        "            \"role\": \"user\",\n",
        "            \"content\": \"Explain the importance of fast language models\",\n",
        "        }\n",
        "    ],\n",
        "    model=\"llama3-70b-8192\",\n",
        ")\n",
        "\n",
        "print(chat_completion.choices[0].message.content)"
      ],
      "metadata": {
        "colab": {
          "base_uri": "https://localhost:8080/"
        },
        "id": "4RVNN0SIWfU-",
        "outputId": "38d589bb-b182-438d-ae62-3dd1cec1eb29"
      },
      "execution_count": 3,
      "outputs": [
        {
          "output_type": "stream",
          "name": "stdout",
          "text": [
            "Fast language models are essential in various applications, including natural language processing (NLP), artificial intelligence (AI), and human-computer interaction. Here are some reasons why fast language models are important:\n",
            "\n",
            "1. **Real-time Processing**: Fast language models enable real-time processing of text-based data, which is critical in applications like chatbots, virtual assistants, and sentiment analysis.\n",
            "2. **Low-Latency Applications**: Fast language models facilitate low-latency applications, such as language translation, speech recognition, and text classification, which require quick processing and response times.\n",
            "3. **Scalability**: Fast language models can handle large volumes of data, making them suitable for high-demand applications like social media, online forums, and comment moderation.\n",
            "4. **Improved User Experience**: Fast language models provide a seamless user experience by reducing the time it takes for a model to respond to a user's input, making it more interactive and engaging.\n",
            "5. **Enhanced Productivity**: Fast language models can process large amounts of text-based tasks quickly, freeing up human capital for more strategic and creative tasks.\n",
            "6. **Cost-Effective**: Fast language models can reduce computational resources and energy consumption, leading to cost savings and a more sustainable approach to NLP and AI.\n",
            "7. **Edge Computing**: Fast language models are necessary for edge computing applications, where AI models need to run locally on devices, such as smartphones, smart home devices, and autonomous vehicles.\n",
            "9. **Safety and Security**: Fast language models can detect and respond to security threats, such as cyberattacks, phishing, and fraudulent activities, in a timely manner.\n",
            "10. **Advancements in Research**: Fast language models facilitate research and development in NLP and AI, enabling researchers to experiment, test, and iterate on new ideas more quickly.\n",
            "11. **Healthcare and Emergency Services**: Fast language models can aid in quick decision-making in emergency services, such as patient triage, medical diagnosis, and response to natural disasters.\n",
            "12. **Language Barriers**: Fast language models can help bridge language gaps by providing quick language translation, enabling people to communicate more effectively across languages and cultures.\n",
            "\n",
            "In summary, fast language models are crucial for various applications that require quick processing, scalability, and real-time decision-making. They can significantly improve user experience, productivity, and cost-effectiveness while enabling advancements in research, safety, and security.\n"
          ]
        }
      ]
    },
    {
      "cell_type": "code",
      "source": [
        "class Agent:\n",
        "  def __init__(self, client, system):\n",
        "    self.client = client\n",
        "    self.system = system\n",
        "    self.messages = []\n",
        "    if self.system is not None:\n",
        "      self.messages.append({\"role\": \"system\", \"content\": self.system})\n",
        "\n",
        "\n",
        "  def __call__(self, message = \"\"):\n",
        "    if message:\n",
        "      self.messages.append({\"role\": \"user\", \"content\": message})\n",
        "      result = self.execute()\n",
        "      self.messages.append({\"role\": \"assistant\", \"content\": result})\n",
        "      return result\n",
        "\n",
        "  def execute(self):\n",
        "    completion = client.chat.completions.create(\n",
        "      messages=self.messages,\n",
        "      model=\"llama3-70b-8192\",\n",
        "      )\n",
        "    return completion.choices[0].message.content"
      ],
      "metadata": {
        "id": "aXpCSb7H1poK"
      },
      "execution_count": 4,
      "outputs": []
    },
    {
      "cell_type": "code",
      "source": [
        "system_prompt = \"\"\"\n",
        "You run in a loop of Thought, Action, PAUSE, Observation.\n",
        "At the end of the loop you output an Answer\n",
        "Use Thought to describe your thoughts about the question you have been asked.\n",
        "Use Action to run one of the actions available to you - then return PAUSE.\n",
        "Observation will be the result of running those actions.\n",
        "\n",
        "Your available actions are:\n",
        "\n",
        "calculate:\n",
        "e.g. calculate: 4 * 7 / 3\n",
        "Runs a calculation and returns the number - uses Python so be sure to use floating point syntax if necessary\n",
        "\n",
        "get_planet_mass:\n",
        "e.g. get_planet_mass: Earth\n",
        "returns weight of the planet in kg\n",
        "\n",
        "Example session:\n",
        "\n",
        "Question: What is the mass of Earth times 2?\n",
        "Thought: I need to find the mass of Earth\n",
        "Action: get_planet_mass: Earth\n",
        "PAUSE\n",
        "\n",
        "You will be called again with this:\n",
        "\n",
        "Observation: 5.972e24\n",
        "\n",
        "Thought: I need to multiply this by 2\n",
        "Action: calculate: 5.972e24 * 2\n",
        "PAUSE\n",
        "\n",
        "You will be called again with this:\n",
        "\n",
        "Observation: 1,1944×10e25\n",
        "\n",
        "If you have the answer, output it as the Answer.\n",
        "\n",
        "Answer: The mass of Earth times 2 is 1,1944×10e25.\n",
        "\n",
        "Now it's your turn:\n",
        "\"\"\".strip()"
      ],
      "metadata": {
        "id": "d9f0eWsO501b"
      },
      "execution_count": 5,
      "outputs": []
    },
    {
      "cell_type": "code",
      "source": [
        "#tools\n",
        "def calculate (operation):\n",
        "  return eval(operation)\n",
        "\n",
        "def get_planet_mass (planet) -> float:\n",
        "  match planet.lower():\n",
        "    case \"earth\":\n",
        "      return 5.972e+24\n",
        "    case \"jupiter\":\n",
        "      return 1.898e27\n",
        "    case \"mars\":\n",
        "      return 6.39e23\n",
        "    case \"mercury\":\n",
        "      return 3.285e23\n",
        "    case \"neptune\":\n",
        "      return 1.024e26\n",
        "    case \"saturn\":\n",
        "      return 5.683e26\n",
        "    case \"uranus\":\n",
        "      return 8.681e25\n",
        "    case \"venus\":\n",
        "      return 4.867e24\n"
      ],
      "metadata": {
        "id": "rtPpkargdi0a"
      },
      "execution_count": 6,
      "outputs": []
    },
    {
      "cell_type": "code",
      "source": [
        "neil_tyson = Agent(client, system_prompt)"
      ],
      "metadata": {
        "id": "bSSo8fo_kVE3"
      },
      "execution_count": 7,
      "outputs": []
    },
    {
      "cell_type": "code",
      "source": [
        "result = neil_tyson(\"What is the mass of Earth times 5?\") # Dando um prompt teste para o agente\n",
        "print(result) # Printando o resultado para vermos se está tudo de acordo"
      ],
      "metadata": {
        "colab": {
          "base_uri": "https://localhost:8080/"
        },
        "id": "HHFVsyvMl_T_",
        "outputId": "ada21cc6-d0b5-4f89-d5cb-62048bbc422c"
      },
      "execution_count": 8,
      "outputs": [
        {
          "output_type": "stream",
          "name": "stdout",
          "text": [
            "Thought: I need to find the mass of Earth\n"
          ]
        }
      ]
    },
    {
      "cell_type": "code",
      "source": [
        "neil_tyson.messages"
      ],
      "metadata": {
        "colab": {
          "base_uri": "https://localhost:8080/"
        },
        "id": "kgkB9LOfmHBF",
        "outputId": "fd73d08a-4220-4f3d-f0df-77076836cc22"
      },
      "execution_count": 9,
      "outputs": [
        {
          "output_type": "execute_result",
          "data": {
            "text/plain": [
              "[{'role': 'system',\n",
              "  'content': \"You run in a loop of Thought, Action, PAUSE, Observation.\\nAt the end of the loop you output an Answer\\nUse Thought to describe your thoughts about the question you have been asked.\\nUse Action to run one of the actions available to you - then return PAUSE.\\nObservation will be the result of running those actions.\\n\\nYour available actions are:\\n\\ncalculate:\\ne.g. calculate: 4 * 7 / 3\\nRuns a calculation and returns the number - uses Python so be sure to use floating point syntax if necessary\\n\\nget_planet_mass:\\ne.g. get_planet_mass: Earth\\nreturns weight of the planet in kg\\n\\nExample session:\\n\\nQuestion: What is the mass of Earth times 2?\\nThought: I need to find the mass of Earth\\nAction: get_planet_mass: Earth\\nPAUSE\\n\\nYou will be called again with this:\\n\\nObservation: 5.972e24\\n\\nThought: I need to multiply this by 2\\nAction: calculate: 5.972e24 * 2\\nPAUSE\\n\\nYou will be called again with this:\\n\\nObservation: 1,1944×10e25\\n\\nIf you have the answer, output it as the Answer.\\n\\nAnswer: The mass of Earth times 2 is 1,1944×10e25.\\n\\nNow it's your turn:\"},\n",
              " {'role': 'user', 'content': 'What is the mass of Earth times 5?'},\n",
              " {'role': 'assistant', 'content': 'Thought: I need to find the mass of Earth'}]"
            ]
          },
          "metadata": {},
          "execution_count": 9
        }
      ]
    },
    {
      "cell_type": "code",
      "source": [
        "result = neil_tyson()\n",
        "print(result)"
      ],
      "metadata": {
        "colab": {
          "base_uri": "https://localhost:8080/"
        },
        "id": "ZiE5Q3s5mWHf",
        "outputId": "57c1cbd0-23cd-4c36-9697-4a95a6dfa241"
      },
      "execution_count": 10,
      "outputs": [
        {
          "output_type": "stream",
          "name": "stdout",
          "text": [
            "None\n"
          ]
        }
      ]
    },
    {
      "cell_type": "code",
      "source": [
        "observation = get_planet_mass(\"Earth\")\n",
        "print(observation)"
      ],
      "metadata": {
        "colab": {
          "base_uri": "https://localhost:8080/"
        },
        "id": "986G7YIYcTFc",
        "outputId": "2955e31d-a518-42d3-88ef-f508c65c2545"
      },
      "execution_count": 11,
      "outputs": [
        {
          "output_type": "stream",
          "name": "stdout",
          "text": [
            "5.972e+24\n"
          ]
        }
      ]
    },
    {
      "cell_type": "code",
      "source": [
        "next_prompt = f\"observation: {observation}\"\n",
        "result = neil_tyson(next_prompt)\n",
        "print(result)"
      ],
      "metadata": {
        "colab": {
          "base_uri": "https://localhost:8080/"
        },
        "id": "twZ7Ft5pc2GW",
        "outputId": "da8a6a66-271c-432c-b771-f73ac84166e8"
      },
      "execution_count": 12,
      "outputs": [
        {
          "output_type": "stream",
          "name": "stdout",
          "text": [
            "Thought: I need to multiply this by 5  \n",
            "Action: calculate: 5.972e24 * 5\n",
            "PAUSE\n"
          ]
        }
      ]
    },
    {
      "cell_type": "code",
      "source": [
        "neil_tyson.messages"
      ],
      "metadata": {
        "colab": {
          "base_uri": "https://localhost:8080/"
        },
        "id": "uWlYl3yYdEnG",
        "outputId": "b49274e2-d7f4-4d5c-980a-47c68550dc94"
      },
      "execution_count": 13,
      "outputs": [
        {
          "output_type": "execute_result",
          "data": {
            "text/plain": [
              "[{'role': 'system',\n",
              "  'content': \"You run in a loop of Thought, Action, PAUSE, Observation.\\nAt the end of the loop you output an Answer\\nUse Thought to describe your thoughts about the question you have been asked.\\nUse Action to run one of the actions available to you - then return PAUSE.\\nObservation will be the result of running those actions.\\n\\nYour available actions are:\\n\\ncalculate:\\ne.g. calculate: 4 * 7 / 3\\nRuns a calculation and returns the number - uses Python so be sure to use floating point syntax if necessary\\n\\nget_planet_mass:\\ne.g. get_planet_mass: Earth\\nreturns weight of the planet in kg\\n\\nExample session:\\n\\nQuestion: What is the mass of Earth times 2?\\nThought: I need to find the mass of Earth\\nAction: get_planet_mass: Earth\\nPAUSE\\n\\nYou will be called again with this:\\n\\nObservation: 5.972e24\\n\\nThought: I need to multiply this by 2\\nAction: calculate: 5.972e24 * 2\\nPAUSE\\n\\nYou will be called again with this:\\n\\nObservation: 1,1944×10e25\\n\\nIf you have the answer, output it as the Answer.\\n\\nAnswer: The mass of Earth times 2 is 1,1944×10e25.\\n\\nNow it's your turn:\"},\n",
              " {'role': 'user', 'content': 'What is the mass of Earth times 5?'},\n",
              " {'role': 'assistant', 'content': 'Thought: I need to find the mass of Earth'},\n",
              " {'role': 'user', 'content': 'observation: 5.972e+24'},\n",
              " {'role': 'assistant',\n",
              "  'content': 'Thought: I need to multiply this by 5  \\nAction: calculate: 5.972e24 * 5\\nPAUSE'}]"
            ]
          },
          "metadata": {},
          "execution_count": 13
        }
      ]
    },
    {
      "cell_type": "code",
      "source": [
        "result = neil_tyson()\n",
        "print(result)"
      ],
      "metadata": {
        "colab": {
          "base_uri": "https://localhost:8080/"
        },
        "id": "zShwRu2CFFrr",
        "outputId": "cf930c9d-e607-4893-fa2a-a81e592a6331"
      },
      "execution_count": 14,
      "outputs": [
        {
          "output_type": "stream",
          "name": "stdout",
          "text": [
            "None\n"
          ]
        }
      ]
    },
    {
      "cell_type": "code",
      "source": [
        "observation = calculate(\"3.285e23 * 5\")\n",
        "print(observation)"
      ],
      "metadata": {
        "colab": {
          "base_uri": "https://localhost:8080/"
        },
        "id": "GFxHOZl1GnpG",
        "outputId": "6f8f02f4-ac99-40f3-f825-2856a40ac884"
      },
      "execution_count": 15,
      "outputs": [
        {
          "output_type": "stream",
          "name": "stdout",
          "text": [
            "1.6425e+24\n"
          ]
        }
      ]
    },
    {
      "cell_type": "code",
      "source": [
        "next_prompt = f\"observation: {observation}\"\n",
        "result = neil_tyson(next_prompt)\n",
        "print(result)"
      ],
      "metadata": {
        "colab": {
          "base_uri": "https://localhost:8080/"
        },
        "id": "ycg-5pI2G54B",
        "outputId": "b69bc873-54ab-4d7d-8b54-8dd2e81efb5a"
      },
      "execution_count": 16,
      "outputs": [
        {
          "output_type": "stream",
          "name": "stdout",
          "text": [
            "Thought: I have the answer  \n",
            "Answer: The mass of Earth times 5 is 1.98625e25.\n"
          ]
        }
      ]
    },
    {
      "cell_type": "code",
      "source": [
        "neil_tyson.messages"
      ],
      "metadata": {
        "colab": {
          "base_uri": "https://localhost:8080/"
        },
        "id": "lpAGVII0HGM7",
        "outputId": "8717f05d-424f-4bfb-e632-34d6d618d93f"
      },
      "execution_count": 17,
      "outputs": [
        {
          "output_type": "execute_result",
          "data": {
            "text/plain": [
              "[{'role': 'system',\n",
              "  'content': \"You run in a loop of Thought, Action, PAUSE, Observation.\\nAt the end of the loop you output an Answer\\nUse Thought to describe your thoughts about the question you have been asked.\\nUse Action to run one of the actions available to you - then return PAUSE.\\nObservation will be the result of running those actions.\\n\\nYour available actions are:\\n\\ncalculate:\\ne.g. calculate: 4 * 7 / 3\\nRuns a calculation and returns the number - uses Python so be sure to use floating point syntax if necessary\\n\\nget_planet_mass:\\ne.g. get_planet_mass: Earth\\nreturns weight of the planet in kg\\n\\nExample session:\\n\\nQuestion: What is the mass of Earth times 2?\\nThought: I need to find the mass of Earth\\nAction: get_planet_mass: Earth\\nPAUSE\\n\\nYou will be called again with this:\\n\\nObservation: 5.972e24\\n\\nThought: I need to multiply this by 2\\nAction: calculate: 5.972e24 * 2\\nPAUSE\\n\\nYou will be called again with this:\\n\\nObservation: 1,1944×10e25\\n\\nIf you have the answer, output it as the Answer.\\n\\nAnswer: The mass of Earth times 2 is 1,1944×10e25.\\n\\nNow it's your turn:\"},\n",
              " {'role': 'user', 'content': 'What is the mass of Earth times 5?'},\n",
              " {'role': 'assistant', 'content': 'Thought: I need to find the mass of Earth'},\n",
              " {'role': 'user', 'content': 'observation: 5.972e+24'},\n",
              " {'role': 'assistant',\n",
              "  'content': 'Thought: I need to multiply this by 5  \\nAction: calculate: 5.972e24 * 5\\nPAUSE'},\n",
              " {'role': 'user', 'content': 'observation: 1.6425e+24'},\n",
              " {'role': 'assistant',\n",
              "  'content': 'Thought: I have the answer  \\nAnswer: The mass of Earth times 5 is 1.98625e25.'}]"
            ]
          },
          "metadata": {},
          "execution_count": 17
        }
      ]
    },
    {
      "cell_type": "code",
      "source": [
        "result = neil_tyson()\n",
        "print(result)"
      ],
      "metadata": {
        "id": "YleS6AIQHBvw",
        "colab": {
          "base_uri": "https://localhost:8080/"
        },
        "outputId": "63a04229-2281-4b75-d80c-aea6539278f4"
      },
      "execution_count": 18,
      "outputs": [
        {
          "output_type": "stream",
          "name": "stdout",
          "text": [
            "None\n"
          ]
        }
      ]
    },
    {
      "cell_type": "code",
      "source": [
        "import re\n",
        "result = \"\"\"\n",
        "Action: calculate: 5.972e24 * 5\n",
        "PAUSE\"\"\"\n",
        "action = re.findall(r\"Action: ([a-z_]+): (.+)\", result, re. IGNORECASE)"
      ],
      "metadata": {
        "id": "YLGe5uXRTAj1"
      },
      "execution_count": 19,
      "outputs": []
    },
    {
      "cell_type": "code",
      "source": [
        "action"
      ],
      "metadata": {
        "colab": {
          "base_uri": "https://localhost:8080/"
        },
        "id": "D-AotlUkTVt_",
        "outputId": "658ad45c-bcd2-41c6-a472-4aa1f966a9b0"
      },
      "execution_count": 20,
      "outputs": [
        {
          "output_type": "execute_result",
          "data": {
            "text/plain": [
              "[('calculate', '5.972e24 * 5')]"
            ]
          },
          "metadata": {},
          "execution_count": 20
        }
      ]
    },
    {
      "cell_type": "code",
      "source": [
        "import re\n",
        "def agent_loop(max_iterations, system, query):\n",
        "  agent = Agent(client, system_prompt)\n",
        "  tools = ['calculate', 'get_planet_mass']\n",
        "  next_prompt = query\n",
        "  i = 0\n",
        "  while i < max_iterations:\n",
        "    i += 1\n",
        "    result = agent(next_prompt)\n",
        "    print(result)\n",
        "\n",
        "    if \"PAUSE\" in result and \"Action\" in result:\n",
        "      action = re.findall(r\"Action: ([a-z_]+): (.+)\", result, re. IGNORECASE)\n",
        "      chosen_tool = action[0][0]\n",
        "      ard = action[0][1]\n",
        "\n",
        "      if chosen_tool in tools:\n",
        "        result_tool = eval(f\"{chosen_tool}({'ard'})\")\n",
        "        next_prompt = f\"observation: {result_tool}\"\n",
        "\n",
        "      else:\n",
        "        next_prompt = \"observation: Tool not found\"\n",
        "\n",
        "        print(result)\n",
        "        continue\n",
        "\n",
        "      if \"Answer\" in result:\n",
        "        break"
      ],
      "metadata": {
        "id": "0sbjRzEwKbtg"
      },
      "execution_count": 21,
      "outputs": []
    },
    {
      "cell_type": "code",
      "source": [
        "agent_loop(max_iterations=10, system=system_prompt, query=\"What is the mass of the Earth plus the mass of Mercury and all of it times 5?\") # Implementando o loop do agente criado"
      ],
      "metadata": {
        "colab": {
          "base_uri": "https://localhost:8080/"
        },
        "id": "UUSdidvSrdlX",
        "outputId": "b1406f99-f4f7-49f7-a36f-2c17b3123a87"
      },
      "execution_count": 22,
      "outputs": [
        {
          "output_type": "stream",
          "name": "stdout",
          "text": [
            "Thought: I need to find the masses of Earth and Mercury and then add them together and then multiply by 5\n",
            "Action: get_planet_mass: Earth\n",
            "PAUSE\n",
            "Thought: I have the mass of Earth, now I need the mass of Mercury\n",
            "Action: get_planet_mass: Mercury\n",
            "PAUSE\n",
            "Thought: I have the masses of Earth and Mercury, now I need to add them together\n",
            "Action: calculate: 5.972e+24 + 3.285e+23\n",
            "PAUSE\n",
            "Thought: I have the sum of the masses, now I need to multiply by 5\n",
            "Action: calculate: 6.300500000000001e+24 * 5\n",
            "PAUSE\n",
            "Thought: I have the final result!\n",
            "\n",
            "Answer: The mass of the Earth plus the mass of Mercury and all of it times 5 is 3.1502500000000004e+25.\n",
            "Thought: I have the final result!\n",
            "\n",
            "Answer: The mass of the Earth plus the mass of Mercury and all of it times 5 is 3.1502500000000004e+25.\n"
          ]
        }
      ]
    }
  ]
}